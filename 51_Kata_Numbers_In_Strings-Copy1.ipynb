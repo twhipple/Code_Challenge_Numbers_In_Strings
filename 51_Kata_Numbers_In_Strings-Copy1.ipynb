{
 "cells": [
  {
   "cell_type": "markdown",
   "metadata": {},
   "source": [
    "# Numbers in strings"
   ]
  },
  {
   "cell_type": "raw",
   "metadata": {},
   "source": [
    "In this Kata, you will be given a string that has lowercase letters and numbers. Your task is to compare the number groupings and return the largest number.\n",
    "\n",
    "For example, solve(\"gh12cdy695m1\") = 695, because this is the largest of all number groupings."
   ]
  },
  {
   "cell_type": "code",
   "execution_count": 1,
   "metadata": {},
   "outputs": [],
   "source": [
    "def solve(s):\n",
    "    pass"
   ]
  },
  {
   "cell_type": "code",
   "execution_count": 2,
   "metadata": {},
   "outputs": [],
   "source": [
    "solve('gh12cdy695m1') #695\n",
    "solve('2ti9iei7qhr5') #9\n",
    "solve('vih61w8oohj5') #61\n",
    "solve('f7g42g16hcu5') #42\n",
    "solve('lu1j8qbbb85') #85"
   ]
  },
  {
   "cell_type": "markdown",
   "metadata": {},
   "source": [
    "# My Code"
   ]
  },
  {
   "cell_type": "code",
   "execution_count": 2,
   "metadata": {},
   "outputs": [],
   "source": [
    "s = \"gh12cdy695m1\""
   ]
  },
  {
   "cell_type": "code",
   "execution_count": 3,
   "metadata": {},
   "outputs": [
    {
     "data": {
      "text/plain": [
       "['g', 'h', '1', '2', 'c', 'd', 'y', '6', '9', '5', 'm', '1']"
      ]
     },
     "execution_count": 3,
     "metadata": {},
     "output_type": "execute_result"
    }
   ],
   "source": [
    "x = [i for i in s]\n",
    "x"
   ]
  },
  {
   "cell_type": "code",
   "execution_count": 4,
   "metadata": {},
   "outputs": [
    {
     "data": {
      "text/plain": [
       "'1'"
      ]
     },
     "execution_count": 4,
     "metadata": {},
     "output_type": "execute_result"
    }
   ],
   "source": [
    "x[2]"
   ]
  },
  {
   "cell_type": "code",
   "execution_count": 5,
   "metadata": {},
   "outputs": [
    {
     "data": {
      "text/plain": [
       "str"
      ]
     },
     "execution_count": 5,
     "metadata": {},
     "output_type": "execute_result"
    }
   ],
   "source": [
    "type(x[2])"
   ]
  },
  {
   "cell_type": "code",
   "execution_count": 6,
   "metadata": {},
   "outputs": [
    {
     "name": "stdout",
     "output_type": "stream",
     "text": [
      "<class 'int'>\n"
     ]
    }
   ],
   "source": [
    "a = int(x[2])\n",
    "print(type(a))"
   ]
  },
  {
   "cell_type": "code",
   "execution_count": 7,
   "metadata": {},
   "outputs": [
    {
     "data": {
      "text/plain": [
       "'h'"
      ]
     },
     "execution_count": 7,
     "metadata": {},
     "output_type": "execute_result"
    }
   ],
   "source": [
    "x[1]"
   ]
  },
  {
   "cell_type": "code",
   "execution_count": 8,
   "metadata": {},
   "outputs": [
    {
     "ename": "ValueError",
     "evalue": "invalid literal for int() with base 10: 'h'",
     "output_type": "error",
     "traceback": [
      "\u001b[0;31m---------------------------------------------------------------------------\u001b[0m",
      "\u001b[0;31mValueError\u001b[0m                                Traceback (most recent call last)",
      "\u001b[0;32m<ipython-input-8-6d53babfe60b>\u001b[0m in \u001b[0;36m<module>\u001b[0;34m\u001b[0m\n\u001b[0;32m----> 1\u001b[0;31m \u001b[0mint\u001b[0m\u001b[0;34m(\u001b[0m\u001b[0mx\u001b[0m\u001b[0;34m[\u001b[0m\u001b[0;36m1\u001b[0m\u001b[0;34m]\u001b[0m\u001b[0;34m)\u001b[0m\u001b[0;34m\u001b[0m\u001b[0;34m\u001b[0m\u001b[0m\n\u001b[0m",
      "\u001b[0;31mValueError\u001b[0m: invalid literal for int() with base 10: 'h'"
     ]
    }
   ],
   "source": [
    "int(x[1])"
   ]
  },
  {
   "cell_type": "code",
   "execution_count": 9,
   "metadata": {},
   "outputs": [
    {
     "ename": "ValueError",
     "evalue": "invalid literal for int() with base 10: 'h'",
     "output_type": "error",
     "traceback": [
      "\u001b[0;31m---------------------------------------------------------------------------\u001b[0m",
      "\u001b[0;31mValueError\u001b[0m                                Traceback (most recent call last)",
      "\u001b[0;32m<ipython-input-9-b1c43f0c0eab>\u001b[0m in \u001b[0;36m<module>\u001b[0;34m\u001b[0m\n\u001b[0;32m----> 1\u001b[0;31m \u001b[0;32mif\u001b[0m \u001b[0mint\u001b[0m\u001b[0;34m(\u001b[0m\u001b[0mx\u001b[0m\u001b[0;34m[\u001b[0m\u001b[0;36m1\u001b[0m\u001b[0;34m]\u001b[0m\u001b[0;34m)\u001b[0m \u001b[0;34m==\u001b[0m \u001b[0;32mFalse\u001b[0m\u001b[0;34m:\u001b[0m\u001b[0;34m\u001b[0m\u001b[0;34m\u001b[0m\u001b[0m\n\u001b[0m\u001b[1;32m      2\u001b[0m     \u001b[0;32mpass\u001b[0m\u001b[0;34m\u001b[0m\u001b[0;34m\u001b[0m\u001b[0m\n",
      "\u001b[0;31mValueError\u001b[0m: invalid literal for int() with base 10: 'h'"
     ]
    }
   ],
   "source": [
    "if int(x[1]) == False:\n",
    "    pass"
   ]
  },
  {
   "cell_type": "code",
   "execution_count": 10,
   "metadata": {},
   "outputs": [
    {
     "data": {
      "text/plain": [
       "False"
      ]
     },
     "execution_count": 10,
     "metadata": {},
     "output_type": "execute_result"
    }
   ],
   "source": [
    "x[1].isdigit()"
   ]
  },
  {
   "cell_type": "code",
   "execution_count": 11,
   "metadata": {},
   "outputs": [],
   "source": [
    "if x[1].isdigit() == False:\n",
    "    pass"
   ]
  },
  {
   "cell_type": "code",
   "execution_count": 12,
   "metadata": {},
   "outputs": [
    {
     "ename": "SyntaxError",
     "evalue": "invalid syntax (<ipython-input-12-388327c20f76>, line 1)",
     "output_type": "error",
     "traceback": [
      "\u001b[0;36m  File \u001b[0;32m\"<ipython-input-12-388327c20f76>\"\u001b[0;36m, line \u001b[0;32m1\u001b[0m\n\u001b[0;31m    [i for i in s if x[i].isdigit() == True: else: pass]\u001b[0m\n\u001b[0m                                           ^\u001b[0m\n\u001b[0;31mSyntaxError\u001b[0m\u001b[0;31m:\u001b[0m invalid syntax\n"
     ]
    }
   ],
   "source": [
    "[i for i in s if x[i].isdigit() == True: else: pass]"
   ]
  },
  {
   "cell_type": "code",
   "execution_count": 101,
   "metadata": {},
   "outputs": [
    {
     "name": "stdout",
     "output_type": "stream",
     "text": [
      "g\n",
      "h\n",
      "1\n",
      "2\n",
      "c\n",
      "d\n",
      "y\n",
      "6\n",
      "9\n",
      "5\n",
      "m\n",
      "1\n"
     ]
    }
   ],
   "source": [
    "x = [i for i in s]\n",
    "for i in x:\n",
    "    print(i)"
   ]
  },
  {
   "cell_type": "code",
   "execution_count": 67,
   "metadata": {},
   "outputs": [
    {
     "name": "stdout",
     "output_type": "stream",
     "text": [
      "g\n",
      "h\n",
      "1\n",
      "2\n",
      "c\n",
      "d\n",
      "y\n",
      "6\n",
      "9\n",
      "5\n",
      "m\n",
      "1\n"
     ]
    }
   ],
   "source": [
    "for i in list(s):\n",
    "    print(i)"
   ]
  },
  {
   "cell_type": "code",
   "execution_count": 68,
   "metadata": {},
   "outputs": [
    {
     "name": "stdout",
     "output_type": "stream",
     "text": [
      "[]\n",
      "[]\n",
      "['1']\n",
      "['1', '2']\n",
      "['1', '2']\n",
      "['1', '2']\n",
      "['1', '2']\n",
      "['1', '2', '6']\n",
      "['1', '2', '6', '9']\n",
      "['1', '2', '6', '9', '5']\n",
      "['1', '2', '6', '9', '5']\n",
      "['1', '2', '6', '9', '5', '1']\n"
     ]
    }
   ],
   "source": [
    "nums = []\n",
    "for i in list(s):\n",
    "    if i.isdigit():\n",
    "        nums.append(i)\n",
    "    print(nums)    "
   ]
  },
  {
   "cell_type": "code",
   "execution_count": 69,
   "metadata": {},
   "outputs": [
    {
     "ename": "IndentationError",
     "evalue": "unexpected indent (<ipython-input-69-cc6f95586dda>, line 5)",
     "output_type": "error",
     "traceback": [
      "\u001b[0;36m  File \u001b[0;32m\"<ipython-input-69-cc6f95586dda>\"\u001b[0;36m, line \u001b[0;32m5\u001b[0m\n\u001b[0;31m    a += i\u001b[0m\n\u001b[0m    ^\u001b[0m\n\u001b[0;31mIndentationError\u001b[0m\u001b[0;31m:\u001b[0m unexpected indent\n"
     ]
    }
   ],
   "source": [
    "nums = []\n",
    "for i in list(s):\n",
    "    a = ''\n",
    "    #while i.isdigit():\n",
    "        a += i\n",
    "    nums.append(i)\n",
    "print(nums) "
   ]
  },
  {
   "cell_type": "code",
   "execution_count": 70,
   "metadata": {},
   "outputs": [
    {
     "ename": "IndentationError",
     "evalue": "unexpected indent (<ipython-input-70-335ec1d0b413>, line 5)",
     "output_type": "error",
     "traceback": [
      "\u001b[0;36m  File \u001b[0;32m\"<ipython-input-70-335ec1d0b413>\"\u001b[0;36m, line \u001b[0;32m5\u001b[0m\n\u001b[0;31m    a = ''.join(i)\u001b[0m\n\u001b[0m    ^\u001b[0m\n\u001b[0;31mIndentationError\u001b[0m\u001b[0;31m:\u001b[0m unexpected indent\n"
     ]
    }
   ],
   "source": [
    "nums = []\n",
    "for i in list(s):\n",
    "    a = ''\n",
    "    #while i.isdigit():\n",
    "        a = ''.join(i)\n",
    "        nums.append(a)\n",
    "    print(nums) "
   ]
  },
  {
   "cell_type": "code",
   "execution_count": 13,
   "metadata": {},
   "outputs": [
    {
     "name": "stdout",
     "output_type": "stream",
     "text": [
      "1\n",
      "2\n",
      "6\n",
      "9\n",
      "5\n",
      "1\n",
      "['', '', '1', '2', '', '', '', '6', '9', '5', '', '1']\n"
     ]
    }
   ],
   "source": [
    "nums = []\n",
    "for i in list(s):\n",
    "    a = ''\n",
    "    if i.isdigit() == True:\n",
    "        a = ''.join(i)\n",
    "        print(a)\n",
    "    else:\n",
    "        pass\n",
    "    nums.append(a)\n",
    "print(nums) "
   ]
  },
  {
   "cell_type": "code",
   "execution_count": 72,
   "metadata": {},
   "outputs": [
    {
     "name": "stdout",
     "output_type": "stream",
     "text": [
      "['', '', '1', '2', '', '', '', '6', '9', '5', '', '1']\n"
     ]
    }
   ],
   "source": [
    "nums = []\n",
    "for i in list(s):\n",
    "    a = ''\n",
    "    if i.isdigit() == True:\n",
    "        a = ''.join(i)\n",
    "    else:\n",
    "        pass\n",
    "    nums.append(a)\n",
    "print(nums) "
   ]
  },
  {
   "cell_type": "code",
   "execution_count": 14,
   "metadata": {},
   "outputs": [
    {
     "name": "stdout",
     "output_type": "stream",
     "text": [
      "['', '', '1', '2', '', '', '', '6', '9', '5', '', '1']\n"
     ]
    }
   ],
   "source": [
    "nums = []\n",
    "for i in list(s):\n",
    "    a = ''\n",
    "    if i.isdigit() == True:\n",
    "        a += i\n",
    "    nums.append(a)\n",
    "print(nums)"
   ]
  },
  {
   "cell_type": "code",
   "execution_count": 17,
   "metadata": {},
   "outputs": [
    {
     "name": "stdout",
     "output_type": "stream",
     "text": [
      "['1']\n"
     ]
    }
   ],
   "source": [
    "nums = []\n",
    "\n",
    "for i in list(s):\n",
    "    a = ''\n",
    "    if i.isdigit() == True:\n",
    "        a += i\n",
    "nums.append(a)\n",
    "print(nums)"
   ]
  },
  {
   "cell_type": "code",
   "execution_count": 77,
   "metadata": {},
   "outputs": [
    {
     "data": {
      "text/plain": [
       "['g', 'h', '1', '2', 'c', 'd', 'y', '6', '9', '5', 'm', '1']"
      ]
     },
     "execution_count": 77,
     "metadata": {},
     "output_type": "execute_result"
    }
   ],
   "source": [
    "list(s)"
   ]
  },
  {
   "cell_type": "code",
   "execution_count": 78,
   "metadata": {},
   "outputs": [
    {
     "name": "stdout",
     "output_type": "stream",
     "text": [
      "['', '', '1', '2', '', '', '', '6', '9', '5', '', '1']\n"
     ]
    }
   ],
   "source": [
    "nums = []\n",
    "for i in s:\n",
    "    a = ''\n",
    "    if i.isdigit() == True:\n",
    "        a += i\n",
    "    nums.append(a)\n",
    "print(nums)"
   ]
  },
  {
   "cell_type": "code",
   "execution_count": 88,
   "metadata": {},
   "outputs": [
    {
     "name": "stdout",
     "output_type": "stream",
     "text": [
      "1\n"
     ]
    }
   ],
   "source": [
    "nums = ''\n",
    "for char in s:\n",
    "    a = ''\n",
    "    if char.isdigit() == True:\n",
    "        a += char\n",
    "    nums = ' '.join(a)\n",
    "print(nums)"
   ]
  },
  {
   "cell_type": "code",
   "execution_count": 94,
   "metadata": {},
   "outputs": [
    {
     "name": "stdout",
     "output_type": "stream",
     "text": [
      "126951\n"
     ]
    }
   ],
   "source": [
    "nums = ''\n",
    "for char in s:\n",
    "    a = ''\n",
    "    if char.isdigit() == True:\n",
    "        a += char\n",
    "    else:\n",
    "        pass\n",
    "    nums += a\n",
    "print(nums)"
   ]
  },
  {
   "cell_type": "code",
   "execution_count": 99,
   "metadata": {},
   "outputs": [
    {
     "ename": "ValueError",
     "evalue": "invalid literal for int() with base 10: ''",
     "output_type": "error",
     "traceback": [
      "\u001b[0;31m---------------------------------------------------------------------------\u001b[0m",
      "\u001b[0;31mValueError\u001b[0m                                Traceback (most recent call last)",
      "\u001b[0;32m<ipython-input-99-ddf09cce523a>\u001b[0m in \u001b[0;36m<module>\u001b[0;34m\u001b[0m\n\u001b[1;32m      4\u001b[0m     \u001b[0;32mif\u001b[0m \u001b[0mi\u001b[0m\u001b[0;34m.\u001b[0m\u001b[0misdigit\u001b[0m\u001b[0;34m(\u001b[0m\u001b[0;34m)\u001b[0m \u001b[0;34m==\u001b[0m \u001b[0;32mTrue\u001b[0m\u001b[0;34m:\u001b[0m\u001b[0;34m\u001b[0m\u001b[0;34m\u001b[0m\u001b[0m\n\u001b[1;32m      5\u001b[0m         \u001b[0ma\u001b[0m \u001b[0;34m+=\u001b[0m \u001b[0mi\u001b[0m\u001b[0;34m\u001b[0m\u001b[0;34m\u001b[0m\u001b[0m\n\u001b[0;32m----> 6\u001b[0;31m     \u001b[0mnums\u001b[0m\u001b[0;34m.\u001b[0m\u001b[0mappend\u001b[0m\u001b[0;34m(\u001b[0m\u001b[0mint\u001b[0m\u001b[0;34m(\u001b[0m\u001b[0ma\u001b[0m\u001b[0;34m)\u001b[0m\u001b[0;34m)\u001b[0m\u001b[0;34m\u001b[0m\u001b[0;34m\u001b[0m\u001b[0m\n\u001b[0m\u001b[1;32m      7\u001b[0m \u001b[0mprint\u001b[0m\u001b[0;34m(\u001b[0m\u001b[0mnums\u001b[0m\u001b[0;34m)\u001b[0m\u001b[0;34m\u001b[0m\u001b[0;34m\u001b[0m\u001b[0m\n",
      "\u001b[0;31mValueError\u001b[0m: invalid literal for int() with base 10: ''"
     ]
    }
   ],
   "source": [
    "nums = []\n",
    "for i in s:\n",
    "    a = ''\n",
    "    if i.isdigit() == True:\n",
    "        a += i\n",
    "    nums.append(int(a))\n",
    "print(nums)"
   ]
  },
  {
   "cell_type": "code",
   "execution_count": 105,
   "metadata": {},
   "outputs": [
    {
     "name": "stdout",
     "output_type": "stream",
     "text": [
      "['', '', '1', '2', '', '', '', '6', '9', '5', '', '1']\n"
     ]
    }
   ],
   "source": [
    "nums = []\n",
    "for i in s:\n",
    "    a = ''\n",
    "    if i.isdigit() == False:\n",
    "        pass\n",
    "    else:\n",
    "        a += i\n",
    "    nums.append(a)\n",
    "print(nums)"
   ]
  },
  {
   "cell_type": "code",
   "execution_count": 30,
   "metadata": {},
   "outputs": [
    {
     "data": {
      "text/plain": [
       "'gh12cdy695m1'"
      ]
     },
     "execution_count": 30,
     "metadata": {},
     "output_type": "execute_result"
    }
   ],
   "source": [
    "s"
   ]
  },
  {
   "cell_type": "code",
   "execution_count": 5,
   "metadata": {},
   "outputs": [
    {
     "name": "stdout",
     "output_type": "stream",
     "text": [
      "['1', '2', '6', '9', '5', '1']\n"
     ]
    }
   ],
   "source": [
    "nums = []\n",
    "for i in list(s):\n",
    "    a = ''\n",
    "    if i in ('0123456789'):\n",
    "        a += i\n",
    "        nums.append(i)\n",
    "print(nums) "
   ]
  },
  {
   "cell_type": "code",
   "execution_count": 25,
   "metadata": {},
   "outputs": [
    {
     "name": "stdout",
     "output_type": "stream",
     "text": [
      "['1 ', '2 ', '6 ', '9 ', '5 ', '1 ']\n"
     ]
    }
   ],
   "source": [
    "nums = []\n",
    "for i in s:\n",
    "    a = ''\n",
    "    while i in '0123456789':\n",
    "        a += i\n",
    "        nums.append(a)\n",
    "        break\n",
    "print(nums) "
   ]
  },
  {
   "cell_type": "code",
   "execution_count": 31,
   "metadata": {},
   "outputs": [
    {
     "name": "stdout",
     "output_type": "stream",
     "text": [
      "['1', '2', '6', '9', '5', '1']\n"
     ]
    }
   ],
   "source": [
    "nums = []\n",
    "a = ''\n",
    "for i in list(s):\n",
    "    if i in ('0123456789'):\n",
    "        a += i\n",
    "        nums.append(i)\n",
    "print(nums) "
   ]
  },
  {
   "cell_type": "code",
   "execution_count": 33,
   "metadata": {},
   "outputs": [
    {
     "name": "stdout",
     "output_type": "stream",
     "text": [
      "[[], [], '1', '2', [], [], [], '6', '9', '5', [], '1']\n"
     ]
    }
   ],
   "source": [
    "nums = []\n",
    "for i in s:\n",
    "    a = []\n",
    "    if i.isdigit() == False:\n",
    "        pass\n",
    "    else:\n",
    "        a = ''.join(i)\n",
    "    nums.append(a)\n",
    "print(nums)"
   ]
  },
  {
   "cell_type": "code",
   "execution_count": 34,
   "metadata": {},
   "outputs": [
    {
     "name": "stdout",
     "output_type": "stream",
     "text": [
      "['', '', '1', '2', '', '', '', '6', '9', '5', '', '1']\n"
     ]
    }
   ],
   "source": [
    "nums = []\n",
    "for i in s:\n",
    "    a = ''\n",
    "    if i.isdigit() == True:\n",
    "        a += i\n",
    "    nums.append(a)\n",
    "print(nums)"
   ]
  },
  {
   "cell_type": "code",
   "execution_count": 39,
   "metadata": {},
   "outputs": [
    {
     "data": {
      "text/plain": [
       "['1', '2']"
      ]
     },
     "execution_count": 39,
     "metadata": {},
     "output_type": "execute_result"
    }
   ],
   "source": [
    "n = ['1', '2']\n",
    "n"
   ]
  },
  {
   "cell_type": "code",
   "execution_count": 41,
   "metadata": {},
   "outputs": [
    {
     "data": {
      "text/plain": [
       "12"
      ]
     },
     "execution_count": 41,
     "metadata": {},
     "output_type": "execute_result"
    }
   ],
   "source": [
    "int(n[0]+n[1])"
   ]
  },
  {
   "cell_type": "code",
   "execution_count": 42,
   "metadata": {},
   "outputs": [],
   "source": [
    "m = '1, 2'"
   ]
  },
  {
   "cell_type": "code",
   "execution_count": 52,
   "metadata": {},
   "outputs": [
    {
     "data": {
      "text/plain": [
       "12"
      ]
     },
     "execution_count": 52,
     "metadata": {},
     "output_type": "execute_result"
    }
   ],
   "source": [
    "int(m[0]+m[3])"
   ]
  },
  {
   "cell_type": "code",
   "execution_count": 55,
   "metadata": {},
   "outputs": [
    {
     "name": "stdout",
     "output_type": "stream",
     "text": [
      "[]\n",
      "[]\n",
      "['11']\n",
      "['11', '22']\n",
      "['11', '22']\n",
      "['11', '22']\n",
      "['11', '22']\n",
      "['11', '22', '66']\n",
      "['11', '22', '66', '99']\n",
      "['11', '22', '66', '99', '55']\n",
      "['11', '22', '66', '99', '55']\n",
      "['11', '22', '66', '99', '55', '11']\n"
     ]
    }
   ],
   "source": [
    "new_nums = []\n",
    "for i in nums:\n",
    "    if i == '':\n",
    "        pass\n",
    "    else:\n",
    "        i += i\n",
    "        new_nums.append(i)\n",
    "    print(new_nums)"
   ]
  },
  {
   "cell_type": "code",
   "execution_count": 59,
   "metadata": {},
   "outputs": [
    {
     "data": {
      "text/plain": [
       "'gh12cdy695m1'"
      ]
     },
     "execution_count": 59,
     "metadata": {},
     "output_type": "execute_result"
    }
   ],
   "source": [
    "s"
   ]
  },
  {
   "cell_type": "code",
   "execution_count": 81,
   "metadata": {},
   "outputs": [
    {
     "name": "stdout",
     "output_type": "stream",
     "text": [
      "[]\n"
     ]
    }
   ],
   "source": [
    "nums = []\n",
    "a = ''\n",
    "for i in s:\n",
    "    while i.isdigit():\n",
    "        a = i\n",
    "        nums.append(i)\n",
    "    break\n",
    "print(nums)"
   ]
  },
  {
   "cell_type": "code",
   "execution_count": 86,
   "metadata": {},
   "outputs": [
    {
     "name": "stdout",
     "output_type": "stream",
     "text": [
      "g\n",
      "[]\n"
     ]
    }
   ],
   "source": [
    "nums = []\n",
    "for i in s:\n",
    "    print(i)\n",
    "    a = ''\n",
    "    while i.isdigit():\n",
    "        print(i)\n",
    "        a += i\n",
    "        nums.append(a)\n",
    "    else:\n",
    "        break\n",
    "print(nums)"
   ]
  },
  {
   "cell_type": "code",
   "execution_count": null,
   "metadata": {},
   "outputs": [],
   "source": [
    "nums = []\n",
    "for i in s:\n",
    "    a = []\n",
    "    while i.isdigit() == False:\n",
    "        pass\n",
    "    else:\n",
    "        a = ''.join(i)\n",
    "    nums.append(a)\n",
    "print(nums)"
   ]
  },
  {
   "cell_type": "code",
   "execution_count": 88,
   "metadata": {},
   "outputs": [
    {
     "name": "stdout",
     "output_type": "stream",
     "text": [
      "['1', '2', '6', '9', '5', '1']\n"
     ]
    }
   ],
   "source": [
    "nums = []\n",
    "for i, j in enumerate(s):\n",
    "    if j.isdigit() == False:\n",
    "        pass\n",
    "    else:\n",
    "        nums.append(j)\n",
    "print(nums)"
   ]
  },
  {
   "cell_type": "code",
   "execution_count": null,
   "metadata": {},
   "outputs": [],
   "source": [
    "for i, j in enumerate(s):\n",
    "    a = ''\n",
    "    if j.isdigit() == True:\n",
    "        a += j\n",
    "    else:\n",
    "        pass"
   ]
  },
  {
   "cell_type": "code",
   "execution_count": 97,
   "metadata": {},
   "outputs": [
    {
     "name": "stdout",
     "output_type": "stream",
     "text": [
      "1\n",
      "2\n",
      "6\n",
      "9\n",
      "5\n",
      "1\n",
      "[[], [], '1', '2', [], [], [], '6', '9', '5', [], '1']\n"
     ]
    }
   ],
   "source": [
    "nums = []\n",
    "for i in s:\n",
    "    a = []\n",
    "    if i.isdigit() == True:\n",
    "        a = i\n",
    "        print(a)\n",
    "    nums.append(a)\n",
    "print(nums)"
   ]
  },
  {
   "cell_type": "code",
   "execution_count": 19,
   "metadata": {},
   "outputs": [
    {
     "data": {
      "text/plain": [
       "['g', 'h', '1', '2', 'c', 'd', 'y', '6', '9', '5', 'm', '1']"
      ]
     },
     "execution_count": 19,
     "metadata": {},
     "output_type": "execute_result"
    }
   ],
   "source": [
    "list(s)"
   ]
  },
  {
   "cell_type": "code",
   "execution_count": 20,
   "metadata": {},
   "outputs": [
    {
     "name": "stdout",
     "output_type": "stream",
     "text": [
      "1\n",
      "2\n",
      "6\n",
      "9\n",
      "5\n",
      "1\n",
      "[[], [], '1', '2', [], [], [], '6', '9', '5', [], '1']\n"
     ]
    }
   ],
   "source": [
    "nums = []\n",
    "for i in s:\n",
    "    a = []\n",
    "    if i.isalpha():\n",
    "        del(i)\n",
    "    else:\n",
    "        a = ''.join(i)\n",
    "        print(a)\n",
    "    nums.append(a)\n",
    "print(nums)"
   ]
  },
  {
   "cell_type": "code",
   "execution_count": 96,
   "metadata": {},
   "outputs": [
    {
     "data": {
      "text/plain": [
       "'12'"
      ]
     },
     "execution_count": 96,
     "metadata": {},
     "output_type": "execute_result"
    }
   ],
   "source": [
    "nums[2]+nums[3]"
   ]
  },
  {
   "cell_type": "code",
   "execution_count": null,
   "metadata": {},
   "outputs": [],
   "source": [
    "sorted()"
   ]
  },
  {
   "cell_type": "code",
   "execution_count": 104,
   "metadata": {},
   "outputs": [
    {
     "data": {
      "text/plain": [
       "12"
      ]
     },
     "execution_count": 104,
     "metadata": {},
     "output_type": "execute_result"
    }
   ],
   "source": [
    "len(list(s))"
   ]
  },
  {
   "cell_type": "code",
   "execution_count": null,
   "metadata": {},
   "outputs": [],
   "source": [
    "n = 0\n",
    "while n < len(list(s)):\n",
    "    if s[n]\n",
    "    str_list[n] = int(str_list[n])\n",
    "    n += 1\n",
    "return(str_list)"
   ]
  },
  {
   "cell_type": "code",
   "execution_count": 23,
   "metadata": {},
   "outputs": [
    {
     "name": "stdout",
     "output_type": "stream",
     "text": [
      "1\n",
      "2\n",
      "6\n",
      "9\n",
      "5\n",
      "1\n",
      "['', '', '1', '2', '', '', '', '6', '9', '5', '', '1']\n"
     ]
    }
   ],
   "source": [
    "nums = []\n",
    "n = 0\n",
    "while n < len(list(s)):\n",
    "    a = ''\n",
    "    if s[n].isdigit():\n",
    "        a += s[n]\n",
    "        print(a)\n",
    "    n += 1\n",
    "    nums.append(a)\n",
    "print(nums)"
   ]
  },
  {
   "cell_type": "code",
   "execution_count": 27,
   "metadata": {},
   "outputs": [
    {
     "name": "stdout",
     "output_type": "stream",
     "text": [
      "1\n",
      "2\n",
      "6\n",
      "9\n",
      "5\n",
      "1\n",
      "126951\n"
     ]
    }
   ],
   "source": [
    "nums = ''\n",
    "n = 0\n",
    "while n < len(list(s)):\n",
    "    a = ''\n",
    "    if s[n].isdigit():\n",
    "        a += s[n]\n",
    "        print(a)\n",
    "    n += 1\n",
    "    nums += a\n",
    "print(nums)"
   ]
  },
  {
   "cell_type": "code",
   "execution_count": 2,
   "metadata": {},
   "outputs": [
    {
     "name": "stdout",
     "output_type": "stream",
     "text": [
      "[]\n"
     ]
    }
   ],
   "source": [
    "nums = []\n",
    "n = 0\n",
    "while n < len(list(s)):\n",
    "    a = ''\n",
    "    if s[n].isdigit():\n",
    "        a += s[n]\n",
    "        n += 1\n",
    "        continue\n",
    "    else: \n",
    "        break\n",
    "    nums.append(a)\n",
    "print(nums)"
   ]
  },
  {
   "cell_type": "code",
   "execution_count": 36,
   "metadata": {},
   "outputs": [
    {
     "data": {
      "text/plain": [
       "'gh12cdy695m1'"
      ]
     },
     "execution_count": 36,
     "metadata": {},
     "output_type": "execute_result"
    }
   ],
   "source": [
    "s"
   ]
  },
  {
   "cell_type": "code",
   "execution_count": 42,
   "metadata": {},
   "outputs": [
    {
     "name": "stdout",
     "output_type": "stream",
     "text": [
      "g\n",
      "h\n",
      "1\n",
      "2\n",
      "c\n",
      "d\n",
      "y\n",
      "6\n",
      "9\n",
      "5\n",
      "m\n",
      "1\n"
     ]
    },
    {
     "data": {
      "text/plain": [
       "'gh12cdy695 1'"
      ]
     },
     "execution_count": 42,
     "metadata": {},
     "output_type": "execute_result"
    }
   ],
   "source": [
    "a = ''\n",
    "for i in s:\n",
    "    print(i)\n",
    "    if i.isalpha():\n",
    "        a = s.replace(i, ' ')\n",
    "a        "
   ]
  },
  {
   "cell_type": "code",
   "execution_count": 47,
   "metadata": {},
   "outputs": [
    {
     "name": "stdout",
     "output_type": "stream",
     "text": [
      "['1', '12', '126', '1269', '12695', '126951']\n"
     ]
    }
   ],
   "source": [
    "nums = []\n",
    "a = ''\n",
    "for i in range(len(s)):\n",
    "    if s[i].isdigit() == False:\n",
    "        pass\n",
    "    else:\n",
    "        a += s[i]\n",
    "        nums.append(a)\n",
    "print(nums)"
   ]
  },
  {
   "cell_type": "code",
   "execution_count": 59,
   "metadata": {},
   "outputs": [
    {
     "name": "stdout",
     "output_type": "stream",
     "text": [
      "['', '', '', '', '', '', '', '', '', '', '', '']\n"
     ]
    }
   ],
   "source": [
    "nums = []\n",
    "for i in range(len(s)):\n",
    "    a = ''\n",
    "    if s[i].isdigit == True:\n",
    "        a += s[i]\n",
    "        i += 1\n",
    "    nums.append(a)\n",
    "print(nums)"
   ]
  },
  {
   "cell_type": "code",
   "execution_count": 60,
   "metadata": {},
   "outputs": [
    {
     "data": {
      "text/plain": [
       "'gh12cdy695m1'"
      ]
     },
     "execution_count": 60,
     "metadata": {},
     "output_type": "execute_result"
    }
   ],
   "source": [
    "s"
   ]
  },
  {
   "cell_type": "code",
   "execution_count": 62,
   "metadata": {},
   "outputs": [
    {
     "data": {
      "text/plain": [
       "['12', '695', '1']"
      ]
     },
     "execution_count": 62,
     "metadata": {},
     "output_type": "execute_result"
    }
   ],
   "source": [
    "import re\n",
    "\n",
    "array = re.findall(r'[0-9]+', s)\n",
    "array"
   ]
  },
  {
   "cell_type": "code",
   "execution_count": 66,
   "metadata": {},
   "outputs": [
    {
     "data": {
      "text/plain": [
       "'695'"
      ]
     },
     "execution_count": 66,
     "metadata": {},
     "output_type": "execute_result"
    }
   ],
   "source": [
    "sorted(array)[::-1][0]\n",
    "    "
   ]
  },
  {
   "cell_type": "code",
   "execution_count": 71,
   "metadata": {},
   "outputs": [],
   "source": [
    "import re\n",
    "def solve(s):\n",
    "    array = re.findall(r'[0-9]+', s)\n",
    "    return sorted(array)[0]"
   ]
  },
  {
   "cell_type": "code",
   "execution_count": 72,
   "metadata": {},
   "outputs": [
    {
     "name": "stdout",
     "output_type": "stream",
     "text": [
      "1\n",
      "2\n",
      "5\n",
      "16\n",
      "1\n"
     ]
    }
   ],
   "source": [
    "print(solve('gh12cdy695m1')) #695\n",
    "print(solve('2ti9iei7qhr5')) #9\n",
    "print(solve('vih61w8oohj5')) #61\n",
    "print(solve('f7g42g16hcu5')) #42\n",
    "print(solve('lu1j8qbbb85')) #85"
   ]
  },
  {
   "cell_type": "code",
   "execution_count": 73,
   "metadata": {},
   "outputs": [
    {
     "data": {
      "text/plain": [
       "['5', '61', '8']"
      ]
     },
     "execution_count": 73,
     "metadata": {},
     "output_type": "execute_result"
    }
   ],
   "source": [
    "s = 'vih61w8oohj5'\n",
    "array = re.findall(r'[0-9]+', s)\n",
    "sorted(array)"
   ]
  },
  {
   "cell_type": "code",
   "execution_count": 75,
   "metadata": {},
   "outputs": [
    {
     "data": {
      "text/plain": [
       "['16', '42', '5', '7']"
      ]
     },
     "execution_count": 75,
     "metadata": {},
     "output_type": "execute_result"
    }
   ],
   "source": [
    "s = 'f7g42g16hcu5'\n",
    "array = re.findall(r'[0-9]+', s)\n",
    "sorted(array)"
   ]
  },
  {
   "cell_type": "code",
   "execution_count": 78,
   "metadata": {},
   "outputs": [
    {
     "data": {
      "text/plain": [
       "42"
      ]
     },
     "execution_count": 78,
     "metadata": {},
     "output_type": "execute_result"
    }
   ],
   "source": [
    "array = re.findall(r'[0-9]+', s)\n",
    "array = [int(i) for i in array]\n",
    "sorted(array)[-1]"
   ]
  },
  {
   "cell_type": "code",
   "execution_count": 79,
   "metadata": {},
   "outputs": [],
   "source": [
    "# Finally, after days and days! Regular Expressions to the rescue...\n",
    "import re\n",
    "def solve(s):\n",
    "    array = re.findall(r'[0-9]+', s)\n",
    "    array = [int(i) for i in array]\n",
    "    return sorted(array)[-1]"
   ]
  },
  {
   "cell_type": "code",
   "execution_count": 80,
   "metadata": {},
   "outputs": [
    {
     "name": "stdout",
     "output_type": "stream",
     "text": [
      "695\n",
      "9\n",
      "61\n",
      "42\n",
      "85\n"
     ]
    }
   ],
   "source": [
    "print(solve('gh12cdy695m1')) #695\n",
    "print(solve('2ti9iei7qhr5')) #9\n",
    "print(solve('vih61w8oohj5')) #61\n",
    "print(solve('f7g42g16hcu5')) #42\n",
    "print(solve('lu1j8qbbb85')) #85"
   ]
  },
  {
   "cell_type": "code",
   "execution_count": null,
   "metadata": {},
   "outputs": [],
   "source": []
  },
  {
   "cell_type": "markdown",
   "metadata": {},
   "source": [
    "# Solutions"
   ]
  },
  {
   "cell_type": "code",
   "execution_count": null,
   "metadata": {},
   "outputs": [],
   "source": [
    "import re\n",
    "\n",
    "def solve(s):\n",
    "    return max(map(int,re.findall(r\"(\\d+)\", s)))"
   ]
  },
  {
   "cell_type": "code",
   "execution_count": null,
   "metadata": {},
   "outputs": [],
   "source": [
    "def solve(s):\n",
    "    largest = 0\n",
    "    number = 0\n",
    "    \n",
    "    for char in s:\n",
    "        if char.isdigit():\n",
    "            number = number * 10 + int(char)\n",
    "            if largest < number:\n",
    "                largest = number\n",
    "        else:\n",
    "            number = 0\n",
    "            \n",
    "    return largest"
   ]
  },
  {
   "cell_type": "code",
   "execution_count": null,
   "metadata": {},
   "outputs": [],
   "source": [
    "def solve(s):\n",
    "    return max(map(int,\"\".join(\" \" if x.isalpha() else x for x in s).split()))"
   ]
  },
  {
   "cell_type": "code",
   "execution_count": null,
   "metadata": {},
   "outputs": [],
   "source": [
    "def solve(s):\n",
    "    result = [0]\n",
    "    for c in s:\n",
    "        if '0' <= c <= '9':\n",
    "            result[-1] = result[-1] * 10 + int(c)\n",
    "        elif result[-1] > 0:\n",
    "            result.append(0)\n",
    "    return max(result)"
   ]
  },
  {
   "cell_type": "code",
   "execution_count": null,
   "metadata": {},
   "outputs": [],
   "source": [
    "import re\n",
    "def solve(s):\n",
    "    g = re.findall(r'\\d+',s)\n",
    "    return max(map(int,g))"
   ]
  },
  {
   "cell_type": "code",
   "execution_count": null,
   "metadata": {},
   "outputs": [],
   "source": []
  },
  {
   "cell_type": "code",
   "execution_count": 81,
   "metadata": {},
   "outputs": [],
   "source": [
    "s = \"gh12cdy695m1\""
   ]
  },
  {
   "cell_type": "code",
   "execution_count": 86,
   "metadata": {},
   "outputs": [
    {
     "name": "stdout",
     "output_type": "stream",
     "text": [
      "1\n",
      "1\n",
      "0\n",
      "2\n",
      "12\n",
      "1\n",
      "6\n",
      "6\n",
      "9\n",
      "69\n",
      "12\n",
      "5\n",
      "695\n",
      "69\n",
      "1\n",
      "1\n",
      "695\n"
     ]
    }
   ],
   "source": [
    "largest = 0\n",
    "number = 0\n",
    "\n",
    "for char in s:\n",
    "    if char.isdigit():\n",
    "        print(char)\n",
    "        number = number * 10 + int(char)\n",
    "        print(number)\n",
    "        if largest < number:\n",
    "            print(largest)\n",
    "            largest = number\n",
    "    else:\n",
    "        number = 0\n",
    "\n",
    "print(largest)"
   ]
  },
  {
   "cell_type": "code",
   "execution_count": null,
   "metadata": {},
   "outputs": [],
   "source": []
  },
  {
   "cell_type": "code",
   "execution_count": null,
   "metadata": {},
   "outputs": [],
   "source": []
  },
  {
   "cell_type": "code",
   "execution_count": null,
   "metadata": {},
   "outputs": [],
   "source": []
  }
 ],
 "metadata": {
  "kernelspec": {
   "display_name": "learn-env",
   "language": "python",
   "name": "learn-env"
  },
  "language_info": {
   "codemirror_mode": {
    "name": "ipython",
    "version": 3
   },
   "file_extension": ".py",
   "mimetype": "text/x-python",
   "name": "python",
   "nbconvert_exporter": "python",
   "pygments_lexer": "ipython3",
   "version": "3.6.9"
  },
  "toc": {
   "base_numbering": 1,
   "nav_menu": {},
   "number_sections": true,
   "sideBar": true,
   "skip_h1_title": false,
   "title_cell": "Table of Contents",
   "title_sidebar": "Contents",
   "toc_cell": false,
   "toc_position": {},
   "toc_section_display": true,
   "toc_window_display": false
  }
 },
 "nbformat": 4,
 "nbformat_minor": 4
}
